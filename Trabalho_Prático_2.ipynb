{
  "nbformat": 4,
  "nbformat_minor": 0,
  "metadata": {
    "colab": {
      "name": "Trabalho_Prático_2.ipynb",
      "provenance": []
    },
    "kernelspec": {
      "name": "python3",
      "display_name": "Python 3"
    }
  },
  "cells": [
    {
      "cell_type": "code",
      "metadata": {
        "id": "e3SkVQK-E_fs"
      },
      "source": [
        "import pandas as pd #biblioteca utilizada para o tratamento de dados via dataframes \n",
        "import numpy as np #biblioteca utilizada para o tratamento de valores numéricos (vetores e matrizes)\n",
        "import matplotlib.pyplot as plt #biblioteca utilizada para construir os gráficos\n",
        "import seaborn as sns\n",
        "\n",
        "#importa o modelo de regressão linear univariada\n",
        "from sklearn.linear_model import LinearRegression\n",
        "\n",
        "#análise do modelo\n",
        "from sklearn.metrics import r2_score #método para o cálculo do R2 (coeficiente de determinação)\n",
        "\n",
        "from sklearn.tree import DecisionTreeRegressor\n",
        "\n",
        "from sklearn.model_selection import train_test_split \n"
      ],
      "execution_count": null,
      "outputs": []
    },
    {
      "cell_type": "code",
      "metadata": {
        "id": "BnL66LLkFDjp"
      },
      "source": [
        "data = pd.read_csv('bike-sharing.csv')"
      ],
      "execution_count": null,
      "outputs": []
    },
    {
      "cell_type": "code",
      "metadata": {
        "id": "OYxCILilPpgD"
      },
      "source": [
        "dataDF = pd.DataFrame(data)"
      ],
      "execution_count": null,
      "outputs": []
    },
    {
      "cell_type": "code",
      "metadata": {
        "id": "z4eo3GIyFDl8"
      },
      "source": [
        ""
      ],
      "execution_count": null,
      "outputs": []
    },
    {
      "cell_type": "code",
      "metadata": {
        "id": "LTOsnKymFDoX",
        "outputId": "201cfcfc-7b31-4ecd-bbd4-d3984f63f6ea",
        "colab": {
          "base_uri": "https://localhost:8080/",
          "height": 420
        }
      },
      "source": [
        "data.info()"
      ],
      "execution_count": null,
      "outputs": [
        {
          "output_type": "stream",
          "text": [
            "<class 'pandas.core.frame.DataFrame'>\n",
            "RangeIndex: 17379 entries, 0 to 17378\n",
            "Data columns (total 17 columns):\n",
            " #   Column             Non-Null Count  Dtype  \n",
            "---  ------             --------------  -----  \n",
            " 0   datetime           17379 non-null  object \n",
            " 1   rec_id             17379 non-null  int64  \n",
            " 2   season             17379 non-null  int64  \n",
            " 3   year               17379 non-null  int64  \n",
            " 4   month              17379 non-null  int64  \n",
            " 5   hour               17379 non-null  int64  \n",
            " 6   is_holiday         17379 non-null  int64  \n",
            " 7   weekday            17379 non-null  int64  \n",
            " 8   is_workingday      17379 non-null  int64  \n",
            " 9   weather_condition  17379 non-null  int64  \n",
            " 10  temp               17379 non-null  float64\n",
            " 11  atemp              17379 non-null  float64\n",
            " 12  humidity           17379 non-null  float64\n",
            " 13  windspeed          17379 non-null  float64\n",
            " 14  casual             17379 non-null  int64  \n",
            " 15  registered         17379 non-null  int64  \n",
            " 16  total_count        17379 non-null  int64  \n",
            "dtypes: float64(4), int64(12), object(1)\n",
            "memory usage: 2.3+ MB\n"
          ],
          "name": "stdout"
        }
      ]
    },
    {
      "cell_type": "code",
      "metadata": {
        "id": "XJXo4Au4FDqt",
        "outputId": "2a8547be-0dc2-47f0-8e77-1cf453a7c9cd",
        "colab": {
          "base_uri": "https://localhost:8080/",
          "height": 319
        }
      },
      "source": [
        "data.isnull().mean()"
      ],
      "execution_count": null,
      "outputs": [
        {
          "output_type": "execute_result",
          "data": {
            "text/plain": [
              "datetime             0.0\n",
              "rec_id               0.0\n",
              "season               0.0\n",
              "year                 0.0\n",
              "month                0.0\n",
              "hour                 0.0\n",
              "is_holiday           0.0\n",
              "weekday              0.0\n",
              "is_workingday        0.0\n",
              "weather_condition    0.0\n",
              "temp                 0.0\n",
              "atemp                0.0\n",
              "humidity             0.0\n",
              "windspeed            0.0\n",
              "casual               0.0\n",
              "registered           0.0\n",
              "total_count          0.0\n",
              "dtype: float64"
            ]
          },
          "metadata": {
            "tags": []
          },
          "execution_count": 18
        }
      ]
    },
    {
      "cell_type": "code",
      "metadata": {
        "id": "RNtNXQAPFDtR",
        "outputId": "3f0eeb84-5743-4b2b-8d47-8f73046aad71",
        "colab": {
          "base_uri": "https://localhost:8080/",
          "height": 319
        }
      },
      "source": [
        "data.isnull().sum()"
      ],
      "execution_count": null,
      "outputs": [
        {
          "output_type": "execute_result",
          "data": {
            "text/plain": [
              "datetime             0\n",
              "rec_id               0\n",
              "season               0\n",
              "year                 0\n",
              "month                0\n",
              "hour                 0\n",
              "is_holiday           0\n",
              "weekday              0\n",
              "is_workingday        0\n",
              "weather_condition    0\n",
              "temp                 0\n",
              "atemp                0\n",
              "humidity             0\n",
              "windspeed            0\n",
              "casual               0\n",
              "registered           0\n",
              "total_count          0\n",
              "dtype: int64"
            ]
          },
          "metadata": {
            "tags": []
          },
          "execution_count": 19
        }
      ]
    },
    {
      "cell_type": "code",
      "metadata": {
        "id": "m9ru4TINFDwE",
        "outputId": "2f66f8fd-8254-439e-ebb6-e842cdef52db",
        "colab": {
          "base_uri": "https://localhost:8080/",
          "height": 34
        }
      },
      "source": [
        "data['windspeed'].mean()"
      ],
      "execution_count": null,
      "outputs": [
        {
          "output_type": "execute_result",
          "data": {
            "text/plain": [
              "0.1900976063064631"
            ]
          },
          "metadata": {
            "tags": []
          },
          "execution_count": 20
        }
      ]
    },
    {
      "cell_type": "code",
      "metadata": {
        "id": "PuMCgVOEFDyt",
        "outputId": "4c3cd20f-1843-4f02-c88e-552f54a1ff0f",
        "colab": {
          "base_uri": "https://localhost:8080/",
          "height": 34
        }
      },
      "source": [
        "data['temp'].mean()"
      ],
      "execution_count": null,
      "outputs": [
        {
          "output_type": "execute_result",
          "data": {
            "text/plain": [
              "0.4969871684216586"
            ]
          },
          "metadata": {
            "tags": []
          },
          "execution_count": 21
        }
      ]
    },
    {
      "cell_type": "code",
      "metadata": {
        "id": "mw1Wd9oWFD1D",
        "outputId": "c9defaf0-4f85-439a-f5c7-39df3b0c43ac",
        "colab": {
          "base_uri": "https://localhost:8080/",
          "height": 106
        }
      },
      "source": [
        "data[['year','total_count']].corr()"
      ],
      "execution_count": null,
      "outputs": [
        {
          "output_type": "execute_result",
          "data": {
            "text/html": [
              "<div>\n",
              "<style scoped>\n",
              "    .dataframe tbody tr th:only-of-type {\n",
              "        vertical-align: middle;\n",
              "    }\n",
              "\n",
              "    .dataframe tbody tr th {\n",
              "        vertical-align: top;\n",
              "    }\n",
              "\n",
              "    .dataframe thead th {\n",
              "        text-align: right;\n",
              "    }\n",
              "</style>\n",
              "<table border=\"1\" class=\"dataframe\">\n",
              "  <thead>\n",
              "    <tr style=\"text-align: right;\">\n",
              "      <th></th>\n",
              "      <th>year</th>\n",
              "      <th>total_count</th>\n",
              "    </tr>\n",
              "  </thead>\n",
              "  <tbody>\n",
              "    <tr>\n",
              "      <th>year</th>\n",
              "      <td>1.000000</td>\n",
              "      <td>0.250495</td>\n",
              "    </tr>\n",
              "    <tr>\n",
              "      <th>total_count</th>\n",
              "      <td>0.250495</td>\n",
              "      <td>1.000000</td>\n",
              "    </tr>\n",
              "  </tbody>\n",
              "</table>\n",
              "</div>"
            ],
            "text/plain": [
              "                 year  total_count\n",
              "year         1.000000     0.250495\n",
              "total_count  0.250495     1.000000"
            ]
          },
          "metadata": {
            "tags": []
          },
          "execution_count": 22
        }
      ]
    },
    {
      "cell_type": "code",
      "metadata": {
        "id": "Q5wWl5OWKAud",
        "outputId": "760d95f1-ef1e-44f7-a7ac-fb1b04e56531",
        "colab": {
          "base_uri": "https://localhost:8080/",
          "height": 541
        }
      },
      "source": [
        "data.corr()"
      ],
      "execution_count": null,
      "outputs": [
        {
          "output_type": "execute_result",
          "data": {
            "text/html": [
              "<div>\n",
              "<style scoped>\n",
              "    .dataframe tbody tr th:only-of-type {\n",
              "        vertical-align: middle;\n",
              "    }\n",
              "\n",
              "    .dataframe tbody tr th {\n",
              "        vertical-align: top;\n",
              "    }\n",
              "\n",
              "    .dataframe thead th {\n",
              "        text-align: right;\n",
              "    }\n",
              "</style>\n",
              "<table border=\"1\" class=\"dataframe\">\n",
              "  <thead>\n",
              "    <tr style=\"text-align: right;\">\n",
              "      <th></th>\n",
              "      <th>rec_id</th>\n",
              "      <th>season</th>\n",
              "      <th>year</th>\n",
              "      <th>month</th>\n",
              "      <th>hour</th>\n",
              "      <th>is_holiday</th>\n",
              "      <th>weekday</th>\n",
              "      <th>is_workingday</th>\n",
              "      <th>weather_condition</th>\n",
              "      <th>temp</th>\n",
              "      <th>atemp</th>\n",
              "      <th>humidity</th>\n",
              "      <th>windspeed</th>\n",
              "      <th>casual</th>\n",
              "      <th>registered</th>\n",
              "      <th>total_count</th>\n",
              "    </tr>\n",
              "  </thead>\n",
              "  <tbody>\n",
              "    <tr>\n",
              "      <th>rec_id</th>\n",
              "      <td>1.000000</td>\n",
              "      <td>0.404046</td>\n",
              "      <td>0.866014</td>\n",
              "      <td>0.489164</td>\n",
              "      <td>-0.004775</td>\n",
              "      <td>0.014723</td>\n",
              "      <td>0.001357</td>\n",
              "      <td>-0.003416</td>\n",
              "      <td>-0.014198</td>\n",
              "      <td>0.136178</td>\n",
              "      <td>0.137615</td>\n",
              "      <td>0.009577</td>\n",
              "      <td>-0.074505</td>\n",
              "      <td>0.158295</td>\n",
              "      <td>0.282046</td>\n",
              "      <td>0.278379</td>\n",
              "    </tr>\n",
              "    <tr>\n",
              "      <th>season</th>\n",
              "      <td>0.404046</td>\n",
              "      <td>1.000000</td>\n",
              "      <td>-0.010742</td>\n",
              "      <td>0.830386</td>\n",
              "      <td>-0.006117</td>\n",
              "      <td>-0.009585</td>\n",
              "      <td>-0.002335</td>\n",
              "      <td>0.013743</td>\n",
              "      <td>-0.014524</td>\n",
              "      <td>0.312025</td>\n",
              "      <td>0.319380</td>\n",
              "      <td>0.150625</td>\n",
              "      <td>-0.149773</td>\n",
              "      <td>0.120206</td>\n",
              "      <td>0.174226</td>\n",
              "      <td>0.178056</td>\n",
              "    </tr>\n",
              "    <tr>\n",
              "      <th>year</th>\n",
              "      <td>0.866014</td>\n",
              "      <td>-0.010742</td>\n",
              "      <td>1.000000</td>\n",
              "      <td>-0.010473</td>\n",
              "      <td>-0.003867</td>\n",
              "      <td>0.006692</td>\n",
              "      <td>-0.004485</td>\n",
              "      <td>-0.002196</td>\n",
              "      <td>-0.019157</td>\n",
              "      <td>0.040913</td>\n",
              "      <td>0.039222</td>\n",
              "      <td>-0.083546</td>\n",
              "      <td>-0.008740</td>\n",
              "      <td>0.142779</td>\n",
              "      <td>0.253684</td>\n",
              "      <td>0.250495</td>\n",
              "    </tr>\n",
              "    <tr>\n",
              "      <th>month</th>\n",
              "      <td>0.489164</td>\n",
              "      <td>0.830386</td>\n",
              "      <td>-0.010473</td>\n",
              "      <td>1.000000</td>\n",
              "      <td>-0.005772</td>\n",
              "      <td>0.018430</td>\n",
              "      <td>0.010400</td>\n",
              "      <td>-0.003477</td>\n",
              "      <td>0.005400</td>\n",
              "      <td>0.201691</td>\n",
              "      <td>0.208096</td>\n",
              "      <td>0.164411</td>\n",
              "      <td>-0.135386</td>\n",
              "      <td>0.068457</td>\n",
              "      <td>0.122273</td>\n",
              "      <td>0.120638</td>\n",
              "    </tr>\n",
              "    <tr>\n",
              "      <th>hour</th>\n",
              "      <td>-0.004775</td>\n",
              "      <td>-0.006117</td>\n",
              "      <td>-0.003867</td>\n",
              "      <td>-0.005772</td>\n",
              "      <td>1.000000</td>\n",
              "      <td>0.000479</td>\n",
              "      <td>-0.003498</td>\n",
              "      <td>0.002285</td>\n",
              "      <td>-0.020203</td>\n",
              "      <td>0.137603</td>\n",
              "      <td>0.133750</td>\n",
              "      <td>-0.276498</td>\n",
              "      <td>0.137252</td>\n",
              "      <td>0.301202</td>\n",
              "      <td>0.374141</td>\n",
              "      <td>0.394071</td>\n",
              "    </tr>\n",
              "    <tr>\n",
              "      <th>is_holiday</th>\n",
              "      <td>0.014723</td>\n",
              "      <td>-0.009585</td>\n",
              "      <td>0.006692</td>\n",
              "      <td>0.018430</td>\n",
              "      <td>0.000479</td>\n",
              "      <td>1.000000</td>\n",
              "      <td>-0.102088</td>\n",
              "      <td>-0.252471</td>\n",
              "      <td>-0.017036</td>\n",
              "      <td>-0.027340</td>\n",
              "      <td>-0.030973</td>\n",
              "      <td>-0.010588</td>\n",
              "      <td>0.003988</td>\n",
              "      <td>0.031564</td>\n",
              "      <td>-0.047345</td>\n",
              "      <td>-0.030927</td>\n",
              "    </tr>\n",
              "    <tr>\n",
              "      <th>weekday</th>\n",
              "      <td>0.001357</td>\n",
              "      <td>-0.002335</td>\n",
              "      <td>-0.004485</td>\n",
              "      <td>0.010400</td>\n",
              "      <td>-0.003498</td>\n",
              "      <td>-0.102088</td>\n",
              "      <td>1.000000</td>\n",
              "      <td>0.035955</td>\n",
              "      <td>0.003311</td>\n",
              "      <td>-0.001795</td>\n",
              "      <td>-0.008821</td>\n",
              "      <td>-0.037158</td>\n",
              "      <td>0.011502</td>\n",
              "      <td>0.032721</td>\n",
              "      <td>0.021578</td>\n",
              "      <td>0.026900</td>\n",
              "    </tr>\n",
              "    <tr>\n",
              "      <th>is_workingday</th>\n",
              "      <td>-0.003416</td>\n",
              "      <td>0.013743</td>\n",
              "      <td>-0.002196</td>\n",
              "      <td>-0.003477</td>\n",
              "      <td>0.002285</td>\n",
              "      <td>-0.252471</td>\n",
              "      <td>0.035955</td>\n",
              "      <td>1.000000</td>\n",
              "      <td>0.044672</td>\n",
              "      <td>0.055390</td>\n",
              "      <td>0.054667</td>\n",
              "      <td>0.015688</td>\n",
              "      <td>-0.011830</td>\n",
              "      <td>-0.300942</td>\n",
              "      <td>0.134326</td>\n",
              "      <td>0.030284</td>\n",
              "    </tr>\n",
              "    <tr>\n",
              "      <th>weather_condition</th>\n",
              "      <td>-0.014198</td>\n",
              "      <td>-0.014524</td>\n",
              "      <td>-0.019157</td>\n",
              "      <td>0.005400</td>\n",
              "      <td>-0.020203</td>\n",
              "      <td>-0.017036</td>\n",
              "      <td>0.003311</td>\n",
              "      <td>0.044672</td>\n",
              "      <td>1.000000</td>\n",
              "      <td>-0.102640</td>\n",
              "      <td>-0.105563</td>\n",
              "      <td>0.418130</td>\n",
              "      <td>0.026226</td>\n",
              "      <td>-0.152628</td>\n",
              "      <td>-0.120966</td>\n",
              "      <td>-0.142426</td>\n",
              "    </tr>\n",
              "    <tr>\n",
              "      <th>temp</th>\n",
              "      <td>0.136178</td>\n",
              "      <td>0.312025</td>\n",
              "      <td>0.040913</td>\n",
              "      <td>0.201691</td>\n",
              "      <td>0.137603</td>\n",
              "      <td>-0.027340</td>\n",
              "      <td>-0.001795</td>\n",
              "      <td>0.055390</td>\n",
              "      <td>-0.102640</td>\n",
              "      <td>1.000000</td>\n",
              "      <td>0.987672</td>\n",
              "      <td>-0.069881</td>\n",
              "      <td>-0.023125</td>\n",
              "      <td>0.459616</td>\n",
              "      <td>0.335361</td>\n",
              "      <td>0.404772</td>\n",
              "    </tr>\n",
              "    <tr>\n",
              "      <th>atemp</th>\n",
              "      <td>0.137615</td>\n",
              "      <td>0.319380</td>\n",
              "      <td>0.039222</td>\n",
              "      <td>0.208096</td>\n",
              "      <td>0.133750</td>\n",
              "      <td>-0.030973</td>\n",
              "      <td>-0.008821</td>\n",
              "      <td>0.054667</td>\n",
              "      <td>-0.105563</td>\n",
              "      <td>0.987672</td>\n",
              "      <td>1.000000</td>\n",
              "      <td>-0.051918</td>\n",
              "      <td>-0.062336</td>\n",
              "      <td>0.454080</td>\n",
              "      <td>0.332559</td>\n",
              "      <td>0.400929</td>\n",
              "    </tr>\n",
              "    <tr>\n",
              "      <th>humidity</th>\n",
              "      <td>0.009577</td>\n",
              "      <td>0.150625</td>\n",
              "      <td>-0.083546</td>\n",
              "      <td>0.164411</td>\n",
              "      <td>-0.276498</td>\n",
              "      <td>-0.010588</td>\n",
              "      <td>-0.037158</td>\n",
              "      <td>0.015688</td>\n",
              "      <td>0.418130</td>\n",
              "      <td>-0.069881</td>\n",
              "      <td>-0.051918</td>\n",
              "      <td>1.000000</td>\n",
              "      <td>-0.290105</td>\n",
              "      <td>-0.347028</td>\n",
              "      <td>-0.273933</td>\n",
              "      <td>-0.322911</td>\n",
              "    </tr>\n",
              "    <tr>\n",
              "      <th>windspeed</th>\n",
              "      <td>-0.074505</td>\n",
              "      <td>-0.149773</td>\n",
              "      <td>-0.008740</td>\n",
              "      <td>-0.135386</td>\n",
              "      <td>0.137252</td>\n",
              "      <td>0.003988</td>\n",
              "      <td>0.011502</td>\n",
              "      <td>-0.011830</td>\n",
              "      <td>0.026226</td>\n",
              "      <td>-0.023125</td>\n",
              "      <td>-0.062336</td>\n",
              "      <td>-0.290105</td>\n",
              "      <td>1.000000</td>\n",
              "      <td>0.090287</td>\n",
              "      <td>0.082321</td>\n",
              "      <td>0.093234</td>\n",
              "    </tr>\n",
              "    <tr>\n",
              "      <th>casual</th>\n",
              "      <td>0.158295</td>\n",
              "      <td>0.120206</td>\n",
              "      <td>0.142779</td>\n",
              "      <td>0.068457</td>\n",
              "      <td>0.301202</td>\n",
              "      <td>0.031564</td>\n",
              "      <td>0.032721</td>\n",
              "      <td>-0.300942</td>\n",
              "      <td>-0.152628</td>\n",
              "      <td>0.459616</td>\n",
              "      <td>0.454080</td>\n",
              "      <td>-0.347028</td>\n",
              "      <td>0.090287</td>\n",
              "      <td>1.000000</td>\n",
              "      <td>0.506618</td>\n",
              "      <td>0.694564</td>\n",
              "    </tr>\n",
              "    <tr>\n",
              "      <th>registered</th>\n",
              "      <td>0.282046</td>\n",
              "      <td>0.174226</td>\n",
              "      <td>0.253684</td>\n",
              "      <td>0.122273</td>\n",
              "      <td>0.374141</td>\n",
              "      <td>-0.047345</td>\n",
              "      <td>0.021578</td>\n",
              "      <td>0.134326</td>\n",
              "      <td>-0.120966</td>\n",
              "      <td>0.335361</td>\n",
              "      <td>0.332559</td>\n",
              "      <td>-0.273933</td>\n",
              "      <td>0.082321</td>\n",
              "      <td>0.506618</td>\n",
              "      <td>1.000000</td>\n",
              "      <td>0.972151</td>\n",
              "    </tr>\n",
              "    <tr>\n",
              "      <th>total_count</th>\n",
              "      <td>0.278379</td>\n",
              "      <td>0.178056</td>\n",
              "      <td>0.250495</td>\n",
              "      <td>0.120638</td>\n",
              "      <td>0.394071</td>\n",
              "      <td>-0.030927</td>\n",
              "      <td>0.026900</td>\n",
              "      <td>0.030284</td>\n",
              "      <td>-0.142426</td>\n",
              "      <td>0.404772</td>\n",
              "      <td>0.400929</td>\n",
              "      <td>-0.322911</td>\n",
              "      <td>0.093234</td>\n",
              "      <td>0.694564</td>\n",
              "      <td>0.972151</td>\n",
              "      <td>1.000000</td>\n",
              "    </tr>\n",
              "  </tbody>\n",
              "</table>\n",
              "</div>"
            ],
            "text/plain": [
              "                     rec_id    season  ...  registered  total_count\n",
              "rec_id             1.000000  0.404046  ...    0.282046     0.278379\n",
              "season             0.404046  1.000000  ...    0.174226     0.178056\n",
              "year               0.866014 -0.010742  ...    0.253684     0.250495\n",
              "month              0.489164  0.830386  ...    0.122273     0.120638\n",
              "hour              -0.004775 -0.006117  ...    0.374141     0.394071\n",
              "is_holiday         0.014723 -0.009585  ...   -0.047345    -0.030927\n",
              "weekday            0.001357 -0.002335  ...    0.021578     0.026900\n",
              "is_workingday     -0.003416  0.013743  ...    0.134326     0.030284\n",
              "weather_condition -0.014198 -0.014524  ...   -0.120966    -0.142426\n",
              "temp               0.136178  0.312025  ...    0.335361     0.404772\n",
              "atemp              0.137615  0.319380  ...    0.332559     0.400929\n",
              "humidity           0.009577  0.150625  ...   -0.273933    -0.322911\n",
              "windspeed         -0.074505 -0.149773  ...    0.082321     0.093234\n",
              "casual             0.158295  0.120206  ...    0.506618     0.694564\n",
              "registered         0.282046  0.174226  ...    1.000000     0.972151\n",
              "total_count        0.278379  0.178056  ...    0.972151     1.000000\n",
              "\n",
              "[16 rows x 16 columns]"
            ]
          },
          "metadata": {
            "tags": []
          },
          "execution_count": 23
        }
      ]
    },
    {
      "cell_type": "code",
      "metadata": {
        "id": "EFpNSvhHIgCF",
        "outputId": "43fe58fb-17e1-45b4-a364-e34bf82f3f72",
        "colab": {
          "base_uri": "https://localhost:8080/",
          "height": 218
        }
      },
      "source": [
        "data['year']"
      ],
      "execution_count": null,
      "outputs": [
        {
          "output_type": "execute_result",
          "data": {
            "text/plain": [
              "0        0\n",
              "1        0\n",
              "2        0\n",
              "3        0\n",
              "4        0\n",
              "        ..\n",
              "17374    1\n",
              "17375    1\n",
              "17376    1\n",
              "17377    1\n",
              "17378    1\n",
              "Name: year, Length: 17379, dtype: int64"
            ]
          },
          "metadata": {
            "tags": []
          },
          "execution_count": 24
        }
      ]
    },
    {
      "cell_type": "code",
      "metadata": {
        "id": "3wGjB6JLPhpS",
        "outputId": "f6a52355-8e0e-4fe2-dc8a-95a6fedfc6ab",
        "colab": {
          "base_uri": "https://localhost:8080/",
          "height": 590
        }
      },
      "source": [
        "data.loc[data['year'] == 0]"
      ],
      "execution_count": null,
      "outputs": [
        {
          "output_type": "execute_result",
          "data": {
            "text/html": [
              "<div>\n",
              "<style scoped>\n",
              "    .dataframe tbody tr th:only-of-type {\n",
              "        vertical-align: middle;\n",
              "    }\n",
              "\n",
              "    .dataframe tbody tr th {\n",
              "        vertical-align: top;\n",
              "    }\n",
              "\n",
              "    .dataframe thead th {\n",
              "        text-align: right;\n",
              "    }\n",
              "</style>\n",
              "<table border=\"1\" class=\"dataframe\">\n",
              "  <thead>\n",
              "    <tr style=\"text-align: right;\">\n",
              "      <th></th>\n",
              "      <th>datetime</th>\n",
              "      <th>rec_id</th>\n",
              "      <th>season</th>\n",
              "      <th>year</th>\n",
              "      <th>month</th>\n",
              "      <th>hour</th>\n",
              "      <th>is_holiday</th>\n",
              "      <th>weekday</th>\n",
              "      <th>is_workingday</th>\n",
              "      <th>weather_condition</th>\n",
              "      <th>temp</th>\n",
              "      <th>atemp</th>\n",
              "      <th>humidity</th>\n",
              "      <th>windspeed</th>\n",
              "      <th>casual</th>\n",
              "      <th>registered</th>\n",
              "      <th>total_count</th>\n",
              "    </tr>\n",
              "  </thead>\n",
              "  <tbody>\n",
              "    <tr>\n",
              "      <th>0</th>\n",
              "      <td>2011-01-01</td>\n",
              "      <td>1</td>\n",
              "      <td>1</td>\n",
              "      <td>0</td>\n",
              "      <td>1</td>\n",
              "      <td>0</td>\n",
              "      <td>0</td>\n",
              "      <td>6</td>\n",
              "      <td>0</td>\n",
              "      <td>1</td>\n",
              "      <td>0.24</td>\n",
              "      <td>0.2879</td>\n",
              "      <td>0.81</td>\n",
              "      <td>0.0000</td>\n",
              "      <td>3</td>\n",
              "      <td>13</td>\n",
              "      <td>16</td>\n",
              "    </tr>\n",
              "    <tr>\n",
              "      <th>1</th>\n",
              "      <td>2011-01-01</td>\n",
              "      <td>2</td>\n",
              "      <td>1</td>\n",
              "      <td>0</td>\n",
              "      <td>1</td>\n",
              "      <td>1</td>\n",
              "      <td>0</td>\n",
              "      <td>6</td>\n",
              "      <td>0</td>\n",
              "      <td>1</td>\n",
              "      <td>0.22</td>\n",
              "      <td>0.2727</td>\n",
              "      <td>0.80</td>\n",
              "      <td>0.0000</td>\n",
              "      <td>8</td>\n",
              "      <td>32</td>\n",
              "      <td>40</td>\n",
              "    </tr>\n",
              "    <tr>\n",
              "      <th>2</th>\n",
              "      <td>2011-01-01</td>\n",
              "      <td>3</td>\n",
              "      <td>1</td>\n",
              "      <td>0</td>\n",
              "      <td>1</td>\n",
              "      <td>2</td>\n",
              "      <td>0</td>\n",
              "      <td>6</td>\n",
              "      <td>0</td>\n",
              "      <td>1</td>\n",
              "      <td>0.22</td>\n",
              "      <td>0.2727</td>\n",
              "      <td>0.80</td>\n",
              "      <td>0.0000</td>\n",
              "      <td>5</td>\n",
              "      <td>27</td>\n",
              "      <td>32</td>\n",
              "    </tr>\n",
              "    <tr>\n",
              "      <th>3</th>\n",
              "      <td>2011-01-01</td>\n",
              "      <td>4</td>\n",
              "      <td>1</td>\n",
              "      <td>0</td>\n",
              "      <td>1</td>\n",
              "      <td>3</td>\n",
              "      <td>0</td>\n",
              "      <td>6</td>\n",
              "      <td>0</td>\n",
              "      <td>1</td>\n",
              "      <td>0.24</td>\n",
              "      <td>0.2879</td>\n",
              "      <td>0.75</td>\n",
              "      <td>0.0000</td>\n",
              "      <td>3</td>\n",
              "      <td>10</td>\n",
              "      <td>13</td>\n",
              "    </tr>\n",
              "    <tr>\n",
              "      <th>4</th>\n",
              "      <td>2011-01-01</td>\n",
              "      <td>5</td>\n",
              "      <td>1</td>\n",
              "      <td>0</td>\n",
              "      <td>1</td>\n",
              "      <td>4</td>\n",
              "      <td>0</td>\n",
              "      <td>6</td>\n",
              "      <td>0</td>\n",
              "      <td>1</td>\n",
              "      <td>0.24</td>\n",
              "      <td>0.2879</td>\n",
              "      <td>0.75</td>\n",
              "      <td>0.0000</td>\n",
              "      <td>0</td>\n",
              "      <td>1</td>\n",
              "      <td>1</td>\n",
              "    </tr>\n",
              "    <tr>\n",
              "      <th>...</th>\n",
              "      <td>...</td>\n",
              "      <td>...</td>\n",
              "      <td>...</td>\n",
              "      <td>...</td>\n",
              "      <td>...</td>\n",
              "      <td>...</td>\n",
              "      <td>...</td>\n",
              "      <td>...</td>\n",
              "      <td>...</td>\n",
              "      <td>...</td>\n",
              "      <td>...</td>\n",
              "      <td>...</td>\n",
              "      <td>...</td>\n",
              "      <td>...</td>\n",
              "      <td>...</td>\n",
              "      <td>...</td>\n",
              "      <td>...</td>\n",
              "    </tr>\n",
              "    <tr>\n",
              "      <th>8640</th>\n",
              "      <td>2011-12-31</td>\n",
              "      <td>8641</td>\n",
              "      <td>1</td>\n",
              "      <td>0</td>\n",
              "      <td>12</td>\n",
              "      <td>19</td>\n",
              "      <td>0</td>\n",
              "      <td>6</td>\n",
              "      <td>0</td>\n",
              "      <td>1</td>\n",
              "      <td>0.42</td>\n",
              "      <td>0.4242</td>\n",
              "      <td>0.54</td>\n",
              "      <td>0.2239</td>\n",
              "      <td>19</td>\n",
              "      <td>73</td>\n",
              "      <td>92</td>\n",
              "    </tr>\n",
              "    <tr>\n",
              "      <th>8641</th>\n",
              "      <td>2011-12-31</td>\n",
              "      <td>8642</td>\n",
              "      <td>1</td>\n",
              "      <td>0</td>\n",
              "      <td>12</td>\n",
              "      <td>20</td>\n",
              "      <td>0</td>\n",
              "      <td>6</td>\n",
              "      <td>0</td>\n",
              "      <td>1</td>\n",
              "      <td>0.42</td>\n",
              "      <td>0.4242</td>\n",
              "      <td>0.54</td>\n",
              "      <td>0.2239</td>\n",
              "      <td>8</td>\n",
              "      <td>63</td>\n",
              "      <td>71</td>\n",
              "    </tr>\n",
              "    <tr>\n",
              "      <th>8642</th>\n",
              "      <td>2011-12-31</td>\n",
              "      <td>8643</td>\n",
              "      <td>1</td>\n",
              "      <td>0</td>\n",
              "      <td>12</td>\n",
              "      <td>21</td>\n",
              "      <td>0</td>\n",
              "      <td>6</td>\n",
              "      <td>0</td>\n",
              "      <td>1</td>\n",
              "      <td>0.40</td>\n",
              "      <td>0.4091</td>\n",
              "      <td>0.58</td>\n",
              "      <td>0.1940</td>\n",
              "      <td>2</td>\n",
              "      <td>50</td>\n",
              "      <td>52</td>\n",
              "    </tr>\n",
              "    <tr>\n",
              "      <th>8643</th>\n",
              "      <td>2011-12-31</td>\n",
              "      <td>8644</td>\n",
              "      <td>1</td>\n",
              "      <td>0</td>\n",
              "      <td>12</td>\n",
              "      <td>22</td>\n",
              "      <td>0</td>\n",
              "      <td>6</td>\n",
              "      <td>0</td>\n",
              "      <td>1</td>\n",
              "      <td>0.38</td>\n",
              "      <td>0.3939</td>\n",
              "      <td>0.62</td>\n",
              "      <td>0.1343</td>\n",
              "      <td>2</td>\n",
              "      <td>36</td>\n",
              "      <td>38</td>\n",
              "    </tr>\n",
              "    <tr>\n",
              "      <th>8644</th>\n",
              "      <td>2011-12-31</td>\n",
              "      <td>8645</td>\n",
              "      <td>1</td>\n",
              "      <td>0</td>\n",
              "      <td>12</td>\n",
              "      <td>23</td>\n",
              "      <td>0</td>\n",
              "      <td>6</td>\n",
              "      <td>0</td>\n",
              "      <td>1</td>\n",
              "      <td>0.36</td>\n",
              "      <td>0.3788</td>\n",
              "      <td>0.66</td>\n",
              "      <td>0.0000</td>\n",
              "      <td>4</td>\n",
              "      <td>27</td>\n",
              "      <td>31</td>\n",
              "    </tr>\n",
              "  </tbody>\n",
              "</table>\n",
              "<p>8645 rows × 17 columns</p>\n",
              "</div>"
            ],
            "text/plain": [
              "        datetime  rec_id  season  ...  casual  registered  total_count\n",
              "0     2011-01-01       1       1  ...       3          13           16\n",
              "1     2011-01-01       2       1  ...       8          32           40\n",
              "2     2011-01-01       3       1  ...       5          27           32\n",
              "3     2011-01-01       4       1  ...       3          10           13\n",
              "4     2011-01-01       5       1  ...       0           1            1\n",
              "...          ...     ...     ...  ...     ...         ...          ...\n",
              "8640  2011-12-31    8641       1  ...      19          73           92\n",
              "8641  2011-12-31    8642       1  ...       8          63           71\n",
              "8642  2011-12-31    8643       1  ...       2          50           52\n",
              "8643  2011-12-31    8644       1  ...       2          36           38\n",
              "8644  2011-12-31    8645       1  ...       4          27           31\n",
              "\n",
              "[8645 rows x 17 columns]"
            ]
          },
          "metadata": {
            "tags": []
          },
          "execution_count": 25
        }
      ]
    },
    {
      "cell_type": "code",
      "metadata": {
        "id": "-MaG5YD0RdNs",
        "outputId": "3fced190-7de9-4092-ad00-c5319a25e9d8",
        "colab": {
          "base_uri": "https://localhost:8080/",
          "height": 590
        }
      },
      "source": [
        "data.loc[data['year'] == 1]"
      ],
      "execution_count": null,
      "outputs": [
        {
          "output_type": "execute_result",
          "data": {
            "text/html": [
              "<div>\n",
              "<style scoped>\n",
              "    .dataframe tbody tr th:only-of-type {\n",
              "        vertical-align: middle;\n",
              "    }\n",
              "\n",
              "    .dataframe tbody tr th {\n",
              "        vertical-align: top;\n",
              "    }\n",
              "\n",
              "    .dataframe thead th {\n",
              "        text-align: right;\n",
              "    }\n",
              "</style>\n",
              "<table border=\"1\" class=\"dataframe\">\n",
              "  <thead>\n",
              "    <tr style=\"text-align: right;\">\n",
              "      <th></th>\n",
              "      <th>datetime</th>\n",
              "      <th>rec_id</th>\n",
              "      <th>season</th>\n",
              "      <th>year</th>\n",
              "      <th>month</th>\n",
              "      <th>hour</th>\n",
              "      <th>is_holiday</th>\n",
              "      <th>weekday</th>\n",
              "      <th>is_workingday</th>\n",
              "      <th>weather_condition</th>\n",
              "      <th>temp</th>\n",
              "      <th>atemp</th>\n",
              "      <th>humidity</th>\n",
              "      <th>windspeed</th>\n",
              "      <th>casual</th>\n",
              "      <th>registered</th>\n",
              "      <th>total_count</th>\n",
              "    </tr>\n",
              "  </thead>\n",
              "  <tbody>\n",
              "    <tr>\n",
              "      <th>8645</th>\n",
              "      <td>2012-01-01</td>\n",
              "      <td>8646</td>\n",
              "      <td>1</td>\n",
              "      <td>1</td>\n",
              "      <td>1</td>\n",
              "      <td>0</td>\n",
              "      <td>0</td>\n",
              "      <td>0</td>\n",
              "      <td>0</td>\n",
              "      <td>1</td>\n",
              "      <td>0.36</td>\n",
              "      <td>0.3788</td>\n",
              "      <td>0.66</td>\n",
              "      <td>0.0000</td>\n",
              "      <td>5</td>\n",
              "      <td>43</td>\n",
              "      <td>48</td>\n",
              "    </tr>\n",
              "    <tr>\n",
              "      <th>8646</th>\n",
              "      <td>2012-01-01</td>\n",
              "      <td>8647</td>\n",
              "      <td>1</td>\n",
              "      <td>1</td>\n",
              "      <td>1</td>\n",
              "      <td>1</td>\n",
              "      <td>0</td>\n",
              "      <td>0</td>\n",
              "      <td>0</td>\n",
              "      <td>1</td>\n",
              "      <td>0.36</td>\n",
              "      <td>0.3485</td>\n",
              "      <td>0.66</td>\n",
              "      <td>0.1343</td>\n",
              "      <td>15</td>\n",
              "      <td>78</td>\n",
              "      <td>93</td>\n",
              "    </tr>\n",
              "    <tr>\n",
              "      <th>8647</th>\n",
              "      <td>2012-01-01</td>\n",
              "      <td>8648</td>\n",
              "      <td>1</td>\n",
              "      <td>1</td>\n",
              "      <td>1</td>\n",
              "      <td>2</td>\n",
              "      <td>0</td>\n",
              "      <td>0</td>\n",
              "      <td>0</td>\n",
              "      <td>1</td>\n",
              "      <td>0.32</td>\n",
              "      <td>0.3485</td>\n",
              "      <td>0.76</td>\n",
              "      <td>0.0000</td>\n",
              "      <td>16</td>\n",
              "      <td>59</td>\n",
              "      <td>75</td>\n",
              "    </tr>\n",
              "    <tr>\n",
              "      <th>8648</th>\n",
              "      <td>2012-01-01</td>\n",
              "      <td>8649</td>\n",
              "      <td>1</td>\n",
              "      <td>1</td>\n",
              "      <td>1</td>\n",
              "      <td>3</td>\n",
              "      <td>0</td>\n",
              "      <td>0</td>\n",
              "      <td>0</td>\n",
              "      <td>1</td>\n",
              "      <td>0.30</td>\n",
              "      <td>0.3333</td>\n",
              "      <td>0.81</td>\n",
              "      <td>0.0000</td>\n",
              "      <td>11</td>\n",
              "      <td>41</td>\n",
              "      <td>52</td>\n",
              "    </tr>\n",
              "    <tr>\n",
              "      <th>8649</th>\n",
              "      <td>2012-01-01</td>\n",
              "      <td>8650</td>\n",
              "      <td>1</td>\n",
              "      <td>1</td>\n",
              "      <td>1</td>\n",
              "      <td>4</td>\n",
              "      <td>0</td>\n",
              "      <td>0</td>\n",
              "      <td>0</td>\n",
              "      <td>1</td>\n",
              "      <td>0.28</td>\n",
              "      <td>0.3030</td>\n",
              "      <td>0.81</td>\n",
              "      <td>0.0896</td>\n",
              "      <td>0</td>\n",
              "      <td>8</td>\n",
              "      <td>8</td>\n",
              "    </tr>\n",
              "    <tr>\n",
              "      <th>...</th>\n",
              "      <td>...</td>\n",
              "      <td>...</td>\n",
              "      <td>...</td>\n",
              "      <td>...</td>\n",
              "      <td>...</td>\n",
              "      <td>...</td>\n",
              "      <td>...</td>\n",
              "      <td>...</td>\n",
              "      <td>...</td>\n",
              "      <td>...</td>\n",
              "      <td>...</td>\n",
              "      <td>...</td>\n",
              "      <td>...</td>\n",
              "      <td>...</td>\n",
              "      <td>...</td>\n",
              "      <td>...</td>\n",
              "      <td>...</td>\n",
              "    </tr>\n",
              "    <tr>\n",
              "      <th>17374</th>\n",
              "      <td>2012-12-31</td>\n",
              "      <td>17375</td>\n",
              "      <td>1</td>\n",
              "      <td>1</td>\n",
              "      <td>12</td>\n",
              "      <td>19</td>\n",
              "      <td>0</td>\n",
              "      <td>1</td>\n",
              "      <td>1</td>\n",
              "      <td>2</td>\n",
              "      <td>0.26</td>\n",
              "      <td>0.2576</td>\n",
              "      <td>0.60</td>\n",
              "      <td>0.1642</td>\n",
              "      <td>11</td>\n",
              "      <td>108</td>\n",
              "      <td>119</td>\n",
              "    </tr>\n",
              "    <tr>\n",
              "      <th>17375</th>\n",
              "      <td>2012-12-31</td>\n",
              "      <td>17376</td>\n",
              "      <td>1</td>\n",
              "      <td>1</td>\n",
              "      <td>12</td>\n",
              "      <td>20</td>\n",
              "      <td>0</td>\n",
              "      <td>1</td>\n",
              "      <td>1</td>\n",
              "      <td>2</td>\n",
              "      <td>0.26</td>\n",
              "      <td>0.2576</td>\n",
              "      <td>0.60</td>\n",
              "      <td>0.1642</td>\n",
              "      <td>8</td>\n",
              "      <td>81</td>\n",
              "      <td>89</td>\n",
              "    </tr>\n",
              "    <tr>\n",
              "      <th>17376</th>\n",
              "      <td>2012-12-31</td>\n",
              "      <td>17377</td>\n",
              "      <td>1</td>\n",
              "      <td>1</td>\n",
              "      <td>12</td>\n",
              "      <td>21</td>\n",
              "      <td>0</td>\n",
              "      <td>1</td>\n",
              "      <td>1</td>\n",
              "      <td>1</td>\n",
              "      <td>0.26</td>\n",
              "      <td>0.2576</td>\n",
              "      <td>0.60</td>\n",
              "      <td>0.1642</td>\n",
              "      <td>7</td>\n",
              "      <td>83</td>\n",
              "      <td>90</td>\n",
              "    </tr>\n",
              "    <tr>\n",
              "      <th>17377</th>\n",
              "      <td>2012-12-31</td>\n",
              "      <td>17378</td>\n",
              "      <td>1</td>\n",
              "      <td>1</td>\n",
              "      <td>12</td>\n",
              "      <td>22</td>\n",
              "      <td>0</td>\n",
              "      <td>1</td>\n",
              "      <td>1</td>\n",
              "      <td>1</td>\n",
              "      <td>0.26</td>\n",
              "      <td>0.2727</td>\n",
              "      <td>0.56</td>\n",
              "      <td>0.1343</td>\n",
              "      <td>13</td>\n",
              "      <td>48</td>\n",
              "      <td>61</td>\n",
              "    </tr>\n",
              "    <tr>\n",
              "      <th>17378</th>\n",
              "      <td>2012-12-31</td>\n",
              "      <td>17379</td>\n",
              "      <td>1</td>\n",
              "      <td>1</td>\n",
              "      <td>12</td>\n",
              "      <td>23</td>\n",
              "      <td>0</td>\n",
              "      <td>1</td>\n",
              "      <td>1</td>\n",
              "      <td>1</td>\n",
              "      <td>0.26</td>\n",
              "      <td>0.2727</td>\n",
              "      <td>0.65</td>\n",
              "      <td>0.1343</td>\n",
              "      <td>12</td>\n",
              "      <td>37</td>\n",
              "      <td>49</td>\n",
              "    </tr>\n",
              "  </tbody>\n",
              "</table>\n",
              "<p>8734 rows × 17 columns</p>\n",
              "</div>"
            ],
            "text/plain": [
              "         datetime  rec_id  season  ...  casual  registered  total_count\n",
              "8645   2012-01-01    8646       1  ...       5          43           48\n",
              "8646   2012-01-01    8647       1  ...      15          78           93\n",
              "8647   2012-01-01    8648       1  ...      16          59           75\n",
              "8648   2012-01-01    8649       1  ...      11          41           52\n",
              "8649   2012-01-01    8650       1  ...       0           8            8\n",
              "...           ...     ...     ...  ...     ...         ...          ...\n",
              "17374  2012-12-31   17375       1  ...      11         108          119\n",
              "17375  2012-12-31   17376       1  ...       8          81           89\n",
              "17376  2012-12-31   17377       1  ...       7          83           90\n",
              "17377  2012-12-31   17378       1  ...      13          48           61\n",
              "17378  2012-12-31   17379       1  ...      12          37           49\n",
              "\n",
              "[8734 rows x 17 columns]"
            ]
          },
          "metadata": {
            "tags": []
          },
          "execution_count": 26
        }
      ]
    },
    {
      "cell_type": "code",
      "metadata": {
        "id": "fbQeBuLzSPlP",
        "outputId": "b7e3bf76-d521-421a-b5d8-9bfa6af2dd8d",
        "colab": {
          "base_uri": "https://localhost:8080/",
          "height": 34
        }
      },
      "source": [
        "data[data['year'] == 0].total_count.sum()"
      ],
      "execution_count": null,
      "outputs": [
        {
          "output_type": "execute_result",
          "data": {
            "text/plain": [
              "1243103"
            ]
          },
          "metadata": {
            "tags": []
          },
          "execution_count": 27
        }
      ]
    },
    {
      "cell_type": "code",
      "metadata": {
        "id": "mz6ATEyRU0JF",
        "outputId": "9180ea8d-9a52-468f-fafe-1ea8c5e84f02",
        "colab": {
          "base_uri": "https://localhost:8080/",
          "height": 34
        }
      },
      "source": [
        "data[data['year'] == 1].total_count.sum()"
      ],
      "execution_count": null,
      "outputs": [
        {
          "output_type": "execute_result",
          "data": {
            "text/plain": [
              "2049576"
            ]
          },
          "metadata": {
            "tags": []
          },
          "execution_count": 29
        }
      ]
    },
    {
      "cell_type": "code",
      "metadata": {
        "id": "XB4QJRaCSEtd",
        "outputId": "c8de497f-909f-461b-8e48-f1d8e360ad70",
        "colab": {
          "base_uri": "https://localhost:8080/",
          "height": 118
        }
      },
      "source": [
        "data.groupby(['season']).total_count.mean()"
      ],
      "execution_count": null,
      "outputs": [
        {
          "output_type": "execute_result",
          "data": {
            "text/plain": [
              "season\n",
              "1    111.114569\n",
              "2    208.344069\n",
              "3    236.016237\n",
              "4    198.868856\n",
              "Name: total_count, dtype: float64"
            ]
          },
          "metadata": {
            "tags": []
          },
          "execution_count": 32
        }
      ]
    },
    {
      "cell_type": "code",
      "metadata": {
        "id": "kGH3sFSbS4lC",
        "outputId": "cfa3208e-a891-4104-9f06-70d221b60b89",
        "colab": {
          "base_uri": "https://localhost:8080/",
          "height": 454
        }
      },
      "source": [
        "data.groupby(['hour']).total_count.mean()"
      ],
      "execution_count": null,
      "outputs": [
        {
          "output_type": "execute_result",
          "data": {
            "text/plain": [
              "hour\n",
              "0      53.898072\n",
              "1      33.375691\n",
              "2      22.869930\n",
              "3      11.727403\n",
              "4       6.352941\n",
              "5      19.889819\n",
              "6      76.044138\n",
              "7     212.064649\n",
              "8     359.011004\n",
              "9     219.309491\n",
              "10    173.668501\n",
              "11    208.143054\n",
              "12    253.315934\n",
              "13    253.661180\n",
              "14    240.949246\n",
              "15    251.233196\n",
              "16    311.983562\n",
              "17    461.452055\n",
              "18    425.510989\n",
              "19    311.523352\n",
              "20    226.030220\n",
              "21    172.314560\n",
              "22    131.335165\n",
              "23     87.831044\n",
              "Name: total_count, dtype: float64"
            ]
          },
          "metadata": {
            "tags": []
          },
          "execution_count": 33
        }
      ]
    },
    {
      "cell_type": "code",
      "metadata": {
        "id": "aVTYc9ncTUip",
        "outputId": "c1d18dad-84d3-4ae3-c937-178f19ee37ef",
        "colab": {
          "base_uri": "https://localhost:8080/",
          "height": 168
        }
      },
      "source": [
        "data.groupby(['weekday']).total_count.mean()"
      ],
      "execution_count": null,
      "outputs": [
        {
          "output_type": "execute_result",
          "data": {
            "text/plain": [
              "weekday\n",
              "0    177.468825\n",
              "1    183.744655\n",
              "2    191.238891\n",
              "3    191.130505\n",
              "4    196.436665\n",
              "5    196.135907\n",
              "6    190.209793\n",
              "Name: total_count, dtype: float64"
            ]
          },
          "metadata": {
            "tags": []
          },
          "execution_count": 34
        }
      ]
    },
    {
      "cell_type": "code",
      "metadata": {
        "id": "PyKjusKQThrg",
        "outputId": "b8df9936-4042-493b-d705-9df9a821aab7",
        "colab": {
          "base_uri": "https://localhost:8080/",
          "height": 454
        }
      },
      "source": [
        "data[data['weekday'] == 3].groupby(['hour']).total_count.mean().sort_values(ascending=False)"
      ],
      "execution_count": null,
      "outputs": [
        {
          "output_type": "execute_result",
          "data": {
            "text/plain": [
              "hour\n",
              "17    513.144231\n",
              "18    494.029126\n",
              "8     488.326923\n",
              "19    357.504854\n",
              "7     303.980769\n",
              "16    272.961538\n",
              "20    256.660194\n",
              "9     238.528846\n",
              "21    194.669903\n",
              "12    193.903846\n",
              "13    185.826923\n",
              "15    181.288462\n",
              "14    170.548077\n",
              "11    152.201923\n",
              "22    143.689320\n",
              "10    131.894231\n",
              "6     107.807692\n",
              "23     83.737864\n",
              "0      34.557692\n",
              "5      25.750000\n",
              "1      15.336538\n",
              "2       7.813725\n",
              "4       4.968750\n",
              "3       4.888889\n",
              "Name: total_count, dtype: float64"
            ]
          },
          "metadata": {
            "tags": []
          },
          "execution_count": 37
        }
      ]
    },
    {
      "cell_type": "code",
      "metadata": {
        "id": "53kNPXj2Um67",
        "outputId": "a3fea397-d297-46f5-8f2b-f7251fd474c5",
        "colab": {
          "base_uri": "https://localhost:8080/",
          "height": 454
        }
      },
      "source": [
        "data[data['weekday'] == 6].groupby(['hour']).total_count.mean().sort_values(ascending=False)"
      ],
      "execution_count": null,
      "outputs": [
        {
          "output_type": "execute_result",
          "data": {
            "text/plain": [
              "hour\n",
              "13    385.371429\n",
              "15    382.428571\n",
              "14    381.333333\n",
              "12    375.380952\n",
              "16    366.142857\n",
              "17    334.409524\n",
              "11    328.609524\n",
              "18    292.048077\n",
              "10    263.723810\n",
              "19    239.932692\n",
              "9     186.790476\n",
              "20    180.865385\n",
              "21    156.000000\n",
              "22    139.663462\n",
              "23    115.855769\n",
              "8     114.476190\n",
              "0      94.304762\n",
              "1      67.780952\n",
              "2      50.495238\n",
              "7      45.961905\n",
              "3      22.885714\n",
              "6      21.000000\n",
              "5       8.291262\n",
              "4       7.657143\n",
              "Name: total_count, dtype: float64"
            ]
          },
          "metadata": {
            "tags": []
          },
          "execution_count": 38
        }
      ]
    },
    {
      "cell_type": "code",
      "metadata": {
        "id": "5p69JAHDVOa-"
      },
      "source": [
        ""
      ],
      "execution_count": null,
      "outputs": []
    }
  ]
}